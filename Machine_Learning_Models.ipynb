{
 "cells": [
  {
   "attachments": {},
   "cell_type": "markdown",
   "metadata": {},
   "source": [
    "## Data Preperation"
   ]
  },
  {
   "cell_type": "code",
   "execution_count": 70,
   "metadata": {},
   "outputs": [],
   "source": [
    "import pandas as pd\n",
    "import numpy as np\n",
    "import matplotlib.pyplot as plt\n",
    "import seaborn as sb\n",
    "sb.set() \n",
    "\n",
    "#Machine Learning\n",
    "from sklearn.model_selection import train_test_split\n",
    "from sklearn.model_selection import RandomizedSearchCV\n",
    "from sklearn.model_selection import GridSearchCV\n",
    "from sklearn.preprocessing import StandardScaler\n",
    "from sklearn.linear_model import LogisticRegression\n",
    "from sklearn.tree import DecisionTreeClassifier\n",
    "from sklearn.ensemble import RandomForestClassifier\n",
    "from sklearn.svm import SVC\n",
    "from sklearn.metrics import confusion_matrix\n",
    "from sklearn.metrics import accuracy_score, precision_score, recall_score, f1_score"
   ]
  },
  {
   "cell_type": "code",
   "execution_count": 71,
   "metadata": {},
   "outputs": [
    {
     "name": "stdout",
     "output_type": "stream",
     "text": [
      "<class 'pandas.core.frame.DataFrame'>\n",
      "RangeIndex: 569 entries, 0 to 568\n",
      "Data columns (total 31 columns):\n",
      " #   Column                   Non-Null Count  Dtype  \n",
      "---  ------                   --------------  -----  \n",
      " 0   diagnosis                569 non-null    object \n",
      " 1   radius_mean              569 non-null    float64\n",
      " 2   texture_mean             569 non-null    float64\n",
      " 3   perimeter_mean           569 non-null    float64\n",
      " 4   area_mean                569 non-null    float64\n",
      " 5   smoothness_mean          569 non-null    float64\n",
      " 6   compactness_mean         569 non-null    float64\n",
      " 7   concavity_mean           569 non-null    float64\n",
      " 8   concave points_mean      569 non-null    float64\n",
      " 9   symmetry_mean            569 non-null    float64\n",
      " 10  fractal_dimension_mean   569 non-null    float64\n",
      " 11  radius_se                569 non-null    float64\n",
      " 12  texture_se               569 non-null    float64\n",
      " 13  perimeter_se             569 non-null    float64\n",
      " 14  area_se                  569 non-null    float64\n",
      " 15  smoothness_se            569 non-null    float64\n",
      " 16  compactness_se           569 non-null    float64\n",
      " 17  concavity_se             569 non-null    float64\n",
      " 18  concave points_se        569 non-null    float64\n",
      " 19  symmetry_se              569 non-null    float64\n",
      " 20  fractal_dimension_se     569 non-null    float64\n",
      " 21  radius_worst             569 non-null    float64\n",
      " 22  texture_worst            569 non-null    float64\n",
      " 23  perimeter_worst          569 non-null    float64\n",
      " 24  area_worst               569 non-null    float64\n",
      " 25  smoothness_worst         569 non-null    float64\n",
      " 26  compactness_worst        569 non-null    float64\n",
      " 27  concavity_worst          569 non-null    float64\n",
      " 28  concave points_worst     569 non-null    float64\n",
      " 29  symmetry_worst           569 non-null    float64\n",
      " 30  fractal_dimension_worst  569 non-null    float64\n",
      "dtypes: float64(30), object(1)\n",
      "memory usage: 137.9+ KB\n"
     ]
    }
   ],
   "source": [
    "cancer = pd.read_csv('cancer.csv', sep = ',')\n",
    "cancer = cancer.drop(cancer.columns[0], axis=1)\n",
    "cancer = cancer.drop('Unnamed: 32', axis=1)\n",
    "cancer.info()"
   ]
  },
  {
   "cell_type": "code",
   "execution_count": 72,
   "metadata": {},
   "outputs": [],
   "source": [
    "#Split data for testing and training\n",
    "cancer_Y = cancer.iloc[:,0]\n",
    "cancer_X= cancer.iloc[:,1:]\n",
    "cancer_Y = cancer_Y.replace({'M': 1, 'B': 0})\n",
    "\n",
    "X_train, X_test, Y_train, Y_test = train_test_split(cancer_X, cancer_Y, test_size = 0.20, random_state=42)"
   ]
  },
  {
   "cell_type": "code",
   "execution_count": 73,
   "metadata": {},
   "outputs": [],
   "source": [
    "#Conduct normalisation for Logistic Regression and SVM\n",
    "scaler = StandardScaler()\n",
    "X_train_scaled = scaler.fit_transform(X_train)\n",
    "X_test_scaled = scaler.transform(X_test)"
   ]
  },
  {
   "attachments": {},
   "cell_type": "markdown",
   "metadata": {},
   "source": [
    "## Logistic Regression"
   ]
  },
  {
   "cell_type": "code",
   "execution_count": 74,
   "metadata": {},
   "outputs": [
    {
     "name": "stdout",
     "output_type": "stream",
     "text": [
      "C value used used: 0.1\n",
      "Solver used used: liblinear\n",
      "\n",
      "Results for Testing Data:\n",
      "Accuracy:  0.9912280701754386\n",
      "Precision:  1.0\n",
      "Recall:  0.9767441860465116\n",
      "F1 Score:  0.988235294117647\n"
     ]
    },
    {
     "data": {
      "image/png": "[encoded data removed]",
      "text/plain": [
       "<Figure size 576x432 with 2 Axes>"
      ]
     },
     "metadata": {},
     "output_type": "display_data"
    }
   ],
   "source": [
    "LogisticRegModelPre = LogisticRegression(max_iter=100000, random_state=42)\n",
    "\n",
    "parameter = {\n",
    "    \"C\" : [0.1,1,10,100],\n",
    "    \"solver\": [\"newton-cg\", \"lbfgs\", \"liblinear\", \"sag\"],\n",
    "}\n",
    "\n",
    "LogisticRegModel = GridSearchCV(LogisticRegModelPre, parameter)\n",
    "LogisticRegModel.fit(X_train_scaled, Y_train)\n",
    "\n",
    "Y_train_pred = LogisticRegModel.predict(X_train_scaled)\n",
    "Y_test_pred = LogisticRegModel.predict(X_test_scaled)\n",
    "\n",
    "matrix_train = confusion_matrix(Y_train, Y_train_pred)\n",
    "matrix_test = confusion_matrix(Y_test, Y_test_pred)\n",
    "\n",
    "f, axes = plt.subplots(figsize=(8, 6))\n",
    "sb.heatmap(matrix_test, annot = True, fmt=\".0f\", annot_kws={\"size\": 18})\n",
    "\n",
    "print(\"C value used used:\", LogisticRegModel.best_params_['C'])\n",
    "print(\"Solver used used:\", LogisticRegModel.best_params_['solver'])\n",
    "\n",
    "print(\"\\nResults for Testing Data:\")\n",
    "print(\"Accuracy: \", accuracy_score(Y_test, Y_test_pred))\n",
    "print(\"Precision: \", precision_score(Y_test, Y_test_pred))\n",
    "print(\"Recall: \", recall_score(Y_test, Y_test_pred))\n",
    "print(\"F1 Score: \", f1_score(Y_test, Y_test_pred))"
   ]
  },
  {
   "attachments": {},
   "cell_type": "markdown",
   "metadata": {},
   "source": [
    "## Decision Tree"
   ]
  },
  {
   "cell_type": "code",
   "execution_count": 75,
   "metadata": {},
   "outputs": [
    {
     "name": "stdout",
     "output_type": "stream",
     "text": [
      "Depth of tree used: 3\n",
      "\n",
      "Results for Testing Data:\n",
      "Accuracy:  0.9473684210526315\n",
      "Precision:  0.9512195121951219\n",
      "Recall:  0.9069767441860465\n",
      "F1 Score:  0.9285714285714286\n"
     ]
    },
    {
     "data": {
      "image/png": "[encoded data removed]",
      "text/plain": [
       "<Figure size 576x432 with 2 Axes>"
      ]
     },
     "metadata": {},
     "output_type": "display_data"
    }
   ],
   "source": [
    "#Using Random Search\n",
    "DecisionTreeModelPre = DecisionTreeClassifier(random_state=42)\n",
    "\n",
    "#Check which heigh of tree would be best\n",
    "parameter = {\n",
    "    \"max_depth\" : [1,2,3,4,5,6,7,8,9,10]\n",
    "}\n",
    "DecisionTreeModel = RandomizedSearchCV(DecisionTreeModelPre, parameter, random_state=42)\n",
    "DecisionTreeModel.fit(X_train, Y_train)\n",
    "\n",
    "Y_train_pred = DecisionTreeModel.predict(X_train)\n",
    "Y_test_pred = DecisionTreeModel.predict(X_test)\n",
    "\n",
    "matrix_train = confusion_matrix(Y_train, Y_train_pred)\n",
    "matrix_test = confusion_matrix(Y_test, Y_test_pred)\n",
    "\n",
    "f, axes = plt.subplots(figsize=(8, 6))\n",
    "sb.heatmap(matrix_test, annot = True, fmt=\".0f\", annot_kws={\"size\": 18})\n",
    "\n",
    "print(\"Depth of tree used:\", DecisionTreeModel.best_params_['max_depth'])\n",
    "\n",
    "print(\"\\nResults for Testing Data:\")\n",
    "print(\"Accuracy: \", accuracy_score(Y_test, Y_test_pred))\n",
    "print(\"Precision: \", precision_score(Y_test, Y_test_pred))\n",
    "print(\"Recall: \", recall_score(Y_test, Y_test_pred))\n",
    "print(\"F1 Score: \", f1_score(Y_test, Y_test_pred))"
   ]
  },
  {
   "attachments": {},
   "cell_type": "markdown",
   "metadata": {},
   "source": [
    "## Random Forest"
   ]
  },
  {
   "cell_type": "code",
   "execution_count": 76,
   "metadata": {},
   "outputs": [
    {
     "name": "stdout",
     "output_type": "stream",
     "text": [
      "Depth of tree used: 10\n",
      "Number of trees used: 340\n",
      "\n",
      "Results for Testing Data:\n",
      "Accuracy:  0.9649122807017544\n",
      "Precision:  0.975609756097561\n",
      "Recall:  0.9302325581395349\n",
      "F1 Score:  0.9523809523809524\n"
     ]
    },
    {
     "data": {
      "image/png": "[encoded data removed]",
      "text/plain": [
       "<Figure size 576x432 with 2 Axes>"
      ]
     },
     "metadata": {},
     "output_type": "display_data"
    }
   ],
   "source": [
    "#Using Random Search\n",
    "RandomForestModelPre = RandomForestClassifier(random_state=42)\n",
    "\n",
    "#Finding best number of trees and depth of tree\n",
    "parameter = {\n",
    "    \"n_estimators\" : [i for i in range(50,1010,10)],\n",
    "    \"max_depth\" : [1,2,3,4,5,6,7,8,9,10]\n",
    "}\n",
    "\n",
    "RandomForestModel = RandomizedSearchCV(RandomForestModelPre, parameter, random_state = 42)\n",
    "RandomForestModel.fit(X_train, Y_train)\n",
    "\n",
    "Y_train_pred = RandomForestModel.predict(X_train)\n",
    "Y_test_pred = RandomForestModel.predict(X_test)\n",
    "\n",
    "matrix_train = confusion_matrix(Y_train, Y_train_pred)\n",
    "matrix_test = confusion_matrix(Y_test, Y_test_pred)\n",
    "\n",
    "f, axes = plt.subplots(figsize=(8, 6))\n",
    "sb.heatmap(matrix_test, annot = True, fmt=\".0f\", annot_kws={\"size\": 18})\n",
    "\n",
    "print(\"Depth of tree used:\", RandomForestModel.best_params_['max_depth'])\n",
    "print(\"Number of trees used:\", RandomForestModel.best_params_['n_estimators'])\n",
    "\n",
    "print(\"\\nResults for Testing Data:\")\n",
    "print(\"Accuracy: \", accuracy_score(Y_test, Y_test_pred))\n",
    "print(\"Precision: \", precision_score(Y_test, Y_test_pred))\n",
    "print(\"Recall: \", recall_score(Y_test, Y_test_pred))\n",
    "print(\"F1 Score: \", f1_score(Y_test, Y_test_pred))\n"
   ]
  },
  {
   "attachments": {},
   "cell_type": "markdown",
   "metadata": {},
   "source": [
    "## Support Vector Machine"
   ]
  },
  {
   "cell_type": "code",
   "execution_count": 77,
   "metadata": {},
   "outputs": [
    {
     "name": "stdout",
     "output_type": "stream",
     "text": [
      "C value used used: 1\n",
      "Kernel used used: rbf\n",
      "\n",
      "Results for Testing Data:\n",
      "Accuracy:  0.9824561403508771\n",
      "Precision:  1.0\n",
      "Recall:  0.9534883720930233\n",
      "F1 Score:  0.9761904761904763\n"
     ]
    },
    {
     "data": {
      "image/png": "[encoded data removed]",
      "text/plain": [
       "<Figure size 576x432 with 2 Axes>"
      ]
     },
     "metadata": {},
     "output_type": "display_data"
    }
   ],
   "source": [
    "SVMModelPre = SVC(random_state=42)\n",
    "\n",
    "#Finding optimal hyperparameters\n",
    "parameter = {\n",
    "    \"C\" : [0.1,1,10,100],\n",
    "    \"kernel\": [\"linear\", \"poly\", \"rbf\", \"sigmoid\"]\n",
    "}\n",
    "\n",
    "SVMModel = GridSearchCV(SVMModelPre, parameter)\n",
    "SVMModel.fit(X_train_scaled, Y_train)\n",
    "\n",
    "Y_train_pred = SVMModel.predict(X_train_scaled)\n",
    "Y_test_pred = SVMModel.predict(X_test_scaled)\n",
    "\n",
    "matrix_train = confusion_matrix(Y_train, Y_train_pred)\n",
    "matrix_test = confusion_matrix(Y_test, Y_test_pred)\n",
    "\n",
    "f, axes = plt.subplots(figsize=(8, 6))\n",
    "sb.heatmap(matrix_test, annot = True, fmt=\".0f\", annot_kws={\"size\": 18})\n",
    "\n",
    "print(\"C value used used:\", SVMModel.best_params_['C'])\n",
    "print(\"Kernel used used:\", SVMModel.best_params_['kernel'])\n",
    "\n",
    "\n",
    "print(\"\\nResults for Testing Data:\")\n",
    "print(\"Accuracy: \", accuracy_score(Y_test, Y_test_pred))\n",
    "print(\"Precision: \", precision_score(Y_test, Y_test_pred))\n",
    "print(\"Recall: \", recall_score(Y_test, Y_test_pred))\n",
    "print(\"F1 Score: \", f1_score(Y_test, Y_test_pred))"
   ]
  }
 ],
 "metadata": {
  "kernelspec": {
   "display_name": "base",
   "language": "python",
   "name": "python3"
  },
  "language_info": {
   "codemirror_mode": {
    "name": "ipython",
    "version": 3
   },
   "file_extension": ".py",
   "mimetype": "text/x-python",
   "name": "python",
   "nbconvert_exporter": "python",
   "pygments_lexer": "ipython3",
   "version": "3.9.7"
  },
  "orig_nbformat": 4
 },
 "nbformat": 4,
 "nbformat_minor": 2
}
